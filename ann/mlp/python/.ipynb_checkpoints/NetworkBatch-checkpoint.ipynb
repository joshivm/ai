{
 "cells": [
  {
   "cell_type": "code",
   "execution_count": 1,
   "metadata": {},
   "outputs": [],
   "source": [
    "from numpy import genfromtxt\n",
    "import numpy as np\n",
    "import time\n",
    "import network as Network"
   ]
  },
  {
   "cell_type": "code",
   "execution_count": 2,
   "metadata": {},
   "outputs": [
    {
     "name": "stdout",
     "output_type": "stream",
     "text": [
      "0.5953841129938762\n"
     ]
    }
   ],
   "source": [
    "def oneHotCode(x):\n",
    "    dum = np.zeros([x.shape[0],10])\n",
    "    for i in range(x.shape[0]):\n",
    "        for j in range(10):\n",
    "            dum[i][j] = 1 if (x[i] == j) else 0\n",
    "    return dum\n",
    "\n",
    "trainFile   = \"mlpTrain.csv\"\n",
    "testFile    = \"mlpTest.csv\"\n",
    "\n",
    "st = time.time()\n",
    "train_data  = genfromtxt(trainFile,delimiter=\",\")\n",
    "test_data   = genfromtxt(testFile,delimiter=\",\")\n",
    "print((time.time()-st)/60)\n",
    "\n",
    "layer_units = [784,256,128,10]\n",
    "learning_rate = 0.02\n",
    "epochs      = 30\n",
    "\n",
    "train       = train_data[0:50000]\n",
    "val         = train_data[50001:60001]\n",
    "test        = test_data\n",
    "\n",
    "\n",
    "y_train    = oneHotCode(train[:,0]).T\n",
    "x_train    = (train[:,1:786]/255).T\n",
    "\n",
    "y_val      = oneHotCode(val[:,0]).T\n",
    "x_val      = (val[:,1:786]/255).T\n",
    "\n",
    "y_test     = oneHotCode(test[:,0]).T\n",
    "x_test     = (test[:,1:786]/255).T"
   ]
  },
  {
   "cell_type": "code",
   "execution_count": 3,
   "metadata": {
    "scrolled": true
   },
   "outputs": [],
   "source": [
    "mnist = Network.Network(layer_units,learning_rate,epochs,x_train,y_train,x_test,y_test,x_val,y_val)"
   ]
  },
  {
   "cell_type": "code",
   "execution_count": 4,
   "metadata": {},
   "outputs": [
    {
     "name": "stdout",
     "output_type": "stream",
     "text": [
      "Epoch      Loss     Accuracy (train,val)     Time (Mins)\n",
      "0          0.397    93.514 , 94.229            0.423\n",
      "1          0.266    95.700 , 95.930            0.841\n",
      "2          0.201    96.852 , 96.800            1.269\n",
      "3          0.164    97.482 , 97.030            1.688\n",
      "4          0.136    97.930 , 97.230            2.106\n",
      "5          0.112    98.360 , 97.370            2.525\n",
      "6          0.091    98.730 , 97.650            2.946\n",
      "7          0.074    98.974 , 97.690            3.372\n",
      "8          0.061    99.196 , 97.870            3.774\n",
      "9          0.051    99.388 , 97.990            4.181\n",
      "10          0.043    99.502 , 98.020            4.603\n",
      "11          0.035    99.622 , 98.040            5.019\n",
      "12          0.028    99.748 , 98.110            5.438\n",
      "13          0.023    99.834 , 98.160            5.853\n",
      "14          0.019    99.878 , 98.150            6.267\n",
      "15          0.015    99.896 , 98.180            6.687\n",
      "16          0.013    99.916 , 98.180            7.088\n",
      "17          0.011    99.938 , 98.160            7.487\n",
      "18          0.009    99.954 , 98.180            7.893\n",
      "19          0.008    99.964 , 98.220            8.311\n",
      "20          0.007    99.976 , 98.220            8.725\n",
      "21          0.006    99.986 , 98.240            9.121\n",
      "22          0.005    99.990 , 98.260            9.513\n",
      "23          0.004    99.992 , 98.270            9.937\n",
      "24          0.004    99.996 , 98.290            10.326\n",
      "25          0.003    99.996 , 98.290            10.713\n",
      "26          0.003    99.996 , 98.300            11.126\n",
      "27          0.003    99.998 , 98.300            11.522\n",
      "28          0.003    99.998 , 98.320            11.918\n",
      "29          0.002    100.000 , 98.340            12.300\n"
     ]
    }
   ],
   "source": [
    "mnist.train()"
   ]
  },
  {
   "cell_type": "code",
   "execution_count": 5,
   "metadata": {},
   "outputs": [
    {
     "name": "stdout",
     "output_type": "stream",
     "text": [
      "Test accuracy:  98.33  Test loss:  0.147796988204\n"
     ]
    }
   ],
   "source": [
    "mnist.test()"
   ]
  },
  {
   "cell_type": "markdown",
   "metadata": {},
   "source": [
    "stop"
   ]
  }
 ],
 "metadata": {
  "kernelspec": {
   "display_name": "Python 3",
   "language": "python",
   "name": "python3"
  },
  "language_info": {
   "codemirror_mode": {
    "name": "ipython",
    "version": 3
   },
   "file_extension": ".py",
   "mimetype": "text/x-python",
   "name": "python",
   "nbconvert_exporter": "python",
   "pygments_lexer": "ipython3",
   "version": "3.6.2"
  }
 },
 "nbformat": 4,
 "nbformat_minor": 2
}
